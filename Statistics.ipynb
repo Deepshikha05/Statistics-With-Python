{
 "cells": [
  {
   "cell_type": "markdown",
   "metadata": {},
   "source": [
    "## Scipy.Stats"
   ]
  },
  {
   "cell_type": "markdown",
   "metadata": {},
   "source": [
    "#### The scipy.stats module specializes in random variables and probability distributions. It implements more than 80 continous distributions and 10 discrete distributions\n",
    "\n",
    "There are two general distribution classes that have been implemented for encapsulating continuous random variables and discrete random variables . Over 80 continuous random variables (RVs) and 10 discrete random variables have been implemented using these classes. Besides this, new routines and distributions can easily added by the end user. "
   ]
  },
  {
   "cell_type": "code",
   "execution_count": 1,
   "metadata": {},
   "outputs": [],
   "source": [
    "import numpy as np\n",
    "from scipy import stats\n",
    "from scipy.stats import norm\n",
    "\n",
    "import statistics\n",
    "import pandas as pd"
   ]
  },
  {
   "cell_type": "code",
   "execution_count": 2,
   "metadata": {},
   "outputs": [],
   "source": [
    "import matplotlib.pyplot as plt\n",
    "%matplotlib inline"
   ]
  },
  {
   "cell_type": "markdown",
   "metadata": {},
   "source": [
    "#### Here loc -> Mean and scale -> Standard Deviation"
   ]
  },
  {
   "cell_type": "code",
   "execution_count": 19,
   "metadata": {},
   "outputs": [],
   "source": [
    "gaussian = stats.norm(loc=4.0, scale=1.0)"
   ]
  },
  {
   "cell_type": "markdown",
   "metadata": {},
   "source": [
    "### Probability Density Function\n",
    "#### A function of a continuous random variable, whose integral across an interval gives the probability that the value of the variable lies within the same interval."
   ]
  },
  {
   "cell_type": "markdown",
   "metadata": {},
   "source": [
    "This basically is a probability law for a continuous random variable say X ( for discrete, it is probability mass function).\n",
    "\n",
    "The probability law defines the chances of the random variable taking a particular value say x, i.e. P (X=x).\n",
    "However this definition is not valid for continuous random variables because the probability at a given point is zero.\n",
    "An alternate to this is: pdf= P (x-e<X<=x)/e as e tends to zero."
   ]
  },
  {
   "cell_type": "code",
   "execution_count": 4,
   "metadata": {},
   "outputs": [],
   "source": [
    "x = np.linspace(0.0, 8.0, 100)\n",
    "y = gaussian.pdf(x)"
   ]
  },
  {
   "cell_type": "code",
   "execution_count": 8,
   "metadata": {},
   "outputs": [
    {
     "data": {
      "image/png": "[encoded data removed]",
      "text/plain": [
       "<Figure size 432x288 with 1 Axes>"
      ]
     },
     "metadata": {
      "needs_background": "light"
     },
     "output_type": "display_data"
    }
   ],
   "source": [
    "plt.plot(x,y);"
   ]
  },
  {
   "cell_type": "markdown",
   "metadata": {},
   "source": [
    "### Cumulative Density Function"
   ]
  },
  {
   "cell_type": "markdown",
   "metadata": {},
   "source": [
    "As the name cumulative suggests, this is simply the probability upto a particular value of the random variable, say x. Generally denoted by F, F= P (X<=x) for any value of x in the X space. It is defined for both discrete and continuous random variables.\n",
    "\n",
    "For detailed descriptions, refer any book on fundamental statistics."
   ]
  },
  {
   "cell_type": "code",
   "execution_count": 9,
   "metadata": {},
   "outputs": [],
   "source": [
    "z = gaussian.cdf(x)"
   ]
  },
  {
   "cell_type": "code",
   "execution_count": 11,
   "metadata": {},
   "outputs": [
    {
     "data": {
      "image/png": "[encoded data removed]",
      "text/plain": [
       "<Figure size 432x288 with 1 Axes>"
      ]
     },
     "metadata": {
      "needs_background": "light"
     },
     "output_type": "display_data"
    }
   ],
   "source": [
    "plt.plot(x, z);"
   ]
  },
  {
   "cell_type": "markdown",
   "metadata": {},
   "source": [
    "### The module provides an easy way to find following:\n",
    "###### Mean -> m, Variance -> v, Skewness -> s, Kurtosis -> k"
   ]
  },
  {
   "cell_type": "code",
   "execution_count": 12,
   "metadata": {},
   "outputs": [
    {
     "data": {
      "text/plain": [
       "(array(4.), array(1.), array(0.), array(0.))"
      ]
     },
     "execution_count": 12,
     "metadata": {},
     "output_type": "execute_result"
    }
   ],
   "source": [
    "gaussian.stats(moments=\"mvsk\")"
   ]
  },
  {
   "cell_type": "markdown",
   "metadata": {},
   "source": [
    "As expected, the gaussian distribution has zero skewness and zero kurtosis."
   ]
  },
  {
   "cell_type": "markdown",
   "metadata": {},
   "source": [
    "### Percent Point Function"
   ]
  },
  {
   "cell_type": "markdown",
   "metadata": {},
   "source": [
    "To find the median of a distribution we can use the percent point function ppf, which is the inverse of the cdf:"
   ]
  },
  {
   "cell_type": "code",
   "execution_count": 16,
   "metadata": {},
   "outputs": [
    {
     "data": {
      "text/plain": [
       "5.644853626951472"
      ]
     },
     "execution_count": 16,
     "metadata": {},
     "output_type": "execute_result"
    }
   ],
   "source": [
    "gaussian.ppf(0.95)"
   ]
  },
  {
   "cell_type": "markdown",
   "metadata": {},
   "source": [
    "### RVS"
   ]
  },
  {
   "cell_type": "markdown",
   "metadata": {},
   "source": [
    "To generate a sequence of n random variables"
   ]
  },
  {
   "cell_type": "code",
   "execution_count": 15,
   "metadata": {},
   "outputs": [
    {
     "name": "stderr",
     "output_type": "stream",
     "text": [
      "/home/deepshikha/.local/lib/python3.6/site-packages/ipykernel_launcher.py:2: MatplotlibDeprecationWarning: \n",
      "The 'normed' kwarg was deprecated in Matplotlib 2.1 and will be removed in 3.1. Use 'density' instead.\n",
      "  \n"
     ]
    },
    {
     "data": {
      "text/plain": [
       "(array([0.00649465, 0.00649465, 0.01948395, 0.        , 0.00649465,\n",
       "        0.        , 0.05195721, 0.03247325, 0.03247325, 0.10391442,\n",
       "        0.14288232, 0.13638767, 0.16236627, 0.22081813, 0.16236627,\n",
       "        0.38318441, 0.24030209, 0.28576464, 0.35071115, 0.41565766,\n",
       "        0.41565766, 0.3442165 , 0.38967906, 0.42864696, 0.29225929,\n",
       "        0.38967906, 0.33772185, 0.16886092, 0.22081813, 0.20133418,\n",
       "        0.07793581, 0.11040907, 0.10391442, 0.09092511, 0.0259786 ,\n",
       "        0.05845186, 0.03247325, 0.01948395, 0.01948395, 0.00649465]),\n",
       " array([0.73823521, 0.89220807, 1.04618094, 1.2001538 , 1.35412666,\n",
       "        1.50809952, 1.66207239, 1.81604525, 1.97001811, 2.12399097,\n",
       "        2.27796384, 2.4319367 , 2.58590956, 2.73988243, 2.89385529,\n",
       "        3.04782815, 3.20180101, 3.35577388, 3.50974674, 3.6637196 ,\n",
       "        3.81769247, 3.97166533, 4.12563819, 4.27961105, 4.43358392,\n",
       "        4.58755678, 4.74152964, 4.8955025 , 5.04947537, 5.20344823,\n",
       "        5.35742109, 5.51139396, 5.66536682, 5.81933968, 5.97331254,\n",
       "        6.12728541, 6.28125827, 6.43523113, 6.58920399, 6.74317686,\n",
       "        6.89714972]),\n",
       " <a list of 40 Patch objects>)"
      ]
     },
     "execution_count": 15,
     "metadata": {},
     "output_type": "execute_result"
    },
    {
     "data": {
      "image/png": "[encoded data removed]",
      "text/plain": [
       "<Figure size 432x288 with 1 Axes>"
      ]
     },
     "metadata": {
      "needs_background": "light"
     },
     "output_type": "display_data"
    }
   ],
   "source": [
    "x = gaussian.rvs(1000)\n",
    "plt.hist(x, bins=40, normed=True)"
   ]
  },
  {
   "cell_type": "markdown",
   "metadata": {},
   "source": [
    "#### Mean\n",
    "The **mean** or **average** is the one number that best represents all these data points.\n",
    "\n",
    "$$\\bar x=\\frac{x_1+x_2+...+x_n}{n}$$"
   ]
  },
  {
   "cell_type": "markdown",
   "metadata": {},
   "source": [
    "### Median\n",
    "The __median__ is the value separating the higher half from the lower half of a data sample (a population or a probability distribution). For a data set, it may be thought of as the \"middle\" value. The basic advantage of the median in describing data compared to the mean is that it is not skewed so much by extremely large or small values.\n",
    "\n",
    "The mean and the median are the same for symmetric distributions."
   ]
  },
  {
   "cell_type": "markdown",
   "metadata": {},
   "source": [
    "### Mode\n",
    "The __mode__ of a set of data values is the value that appears most often. It is the value x at which its probability mass function takes its maximum value. In other words, it is the value that is most likely to be sampled.\n",
    "\n",
    "The mean of the dataset would always change if there is a change in any value of the dataset. Median and mode may or may not change with altering a single value in the dataset.</div>\n",
    "\n",
    "### Trimean\n",
    "The __trimean__ is a weighted average of the 25th percentile, the 50th percentile, and the 75th percentile. Letting $P_{25}$ be the 25th percentile, $P_{50}$ be the 50th and $P_{75}$ be the 75th percentile, the formula for the trimean is:\n",
    "$$Trimean=\\frac{P_{25}+2P_{50}+P_{75}}{4}$$\n",
    "\n",
    "The median $P_{50}$ is weighted twice as much as the 25th and 75th percentiles.\n",
    "\n",
    "### Geometric mean\n",
    "The __geometric mean__ is computed by multiplying all the numbers together and then taking the nth root of the product. For example, for the numbers 1, 10, and 100, the product of all the numbers is: 1 x 10 x 100 = 1,000. Since there are three numbers, we take the cubed root of the product (1,000) which is equal to 10. The formula for the geometric mean is:\n",
    "$$Geometric Mean=(\\Pi x)^{\\frac{1}{N}}$$\n",
    "where the symbol $\\Pi$ means to multiply.\n",
    "\n",
    "### Trimmed mean\n",
    "__Trimmed mean__ is obtained by removing some of the higher and lower scores and compute the mean of the remaining scores. A mean trimmed 10% is a mean computed with 10% of the scores trimmed off: 5% from the bottom and 5% from the top. A mean trimmed 50% is computed by trimming the upper 25% of the scores and the lower 25% of the scores and computing the mean of the remaining scores. The trimmed mean is similar to the median which, in essence, trims the upper 49+% and the lower 49+% of the scores. Therefore the trimmed mean is a hybrid of the mean and the median. \n",
    "\n",
    "### Range\n",
    "The **Range** describes the extent of variability by considering the distance between the biggest and the smallest values. The larger the range, the more noticeable the variation in the data will be. However, the greatest disadvantage is that it ignores the mean, and is swayed by the outliers; that's where variance comes in.\n",
    "$$range=x_{max}-x_{min}$$"
   ]
  },
  {
   "cell_type": "code",
   "execution_count": 15,
   "metadata": {},
   "outputs": [],
   "source": [
    "# Let's initialize a list of numbers to calculate above mentioned terms\n",
    "l=[34, 167, 89, 56, 30, 86, 45, 19, 3, 70, 81, 107, 49, 47, 71, 69, 156, 130, 26, 7, 18, 67, 49, 30]"
   ]
  },
  {
   "cell_type": "code",
   "execution_count": 16,
   "metadata": {},
   "outputs": [
    {
     "data": {
      "text/plain": [
       "62.75"
      ]
     },
     "execution_count": 16,
     "metadata": {},
     "output_type": "execute_result"
    }
   ],
   "source": [
    "# Mean \n",
    "round(np.mean(l),2)"
   ]
  },
  {
   "cell_type": "code",
   "execution_count": 17,
   "metadata": {},
   "outputs": [
    {
     "data": {
      "text/plain": [
       "52.5"
      ]
     },
     "execution_count": 17,
     "metadata": {},
     "output_type": "execute_result"
    }
   ],
   "source": [
    "# Median \n",
    "round(np.median(l),2)"
   ]
  },
  {
   "cell_type": "code",
   "execution_count": 25,
   "metadata": {},
   "outputs": [
    {
     "data": {
      "text/plain": [
       "30"
      ]
     },
     "execution_count": 25,
     "metadata": {},
     "output_type": "execute_result"
    }
   ],
   "source": [
    "# Mode\n",
    "int(stats.mode(l)[0])"
   ]
  },
  {
   "cell_type": "code",
   "execution_count": 28,
   "metadata": {},
   "outputs": [
    {
     "data": {
      "text/plain": [
       "58.65"
      ]
     },
     "execution_count": 28,
     "metadata": {},
     "output_type": "execute_result"
    }
   ],
   "source": [
    "# Trimmed Mean\n",
    "round(stats.trim_mean(l, 0.1),2)"
   ]
  },
  {
   "cell_type": "code",
   "execution_count": 29,
   "metadata": {},
   "outputs": [
    {
     "data": {
      "text/plain": [
       "46.08"
      ]
     },
     "execution_count": 29,
     "metadata": {},
     "output_type": "execute_result"
    }
   ],
   "source": [
    "# Geometric Mean\n",
    "round(stats.mstats.gmean(l),2)"
   ]
  },
  {
   "cell_type": "code",
   "execution_count": 32,
   "metadata": {},
   "outputs": [
    {
     "data": {
      "text/plain": [
       "(54.31, 30.0, 52.5, 82.25)"
      ]
     },
     "execution_count": 32,
     "metadata": {},
     "output_type": "execute_result"
    }
   ],
   "source": [
    "# Trimean\n",
    "p25=round(np.percentile(l,25),2)\n",
    "p50=round(np.percentile(l,50),2)\n",
    "p75=round(np.percentile(l,75),2)\n",
    "tm=(p25+2*p50+p75)/4.0\n",
    "round(tm,2),p25,p50,p75"
   ]
  },
  {
   "cell_type": "markdown",
   "metadata": {},
   "source": [
    "### Mean Deviation\n",
    "The mean deviation (also called the mean absolute deviation) is the mean of the absolute deviations of a set of data about the data's mean.\n",
    "$$Mean\\ Deviation=x_i-\\bar x$$\n",
    "\n",
    "### Variance $(\\sigma^2)$ \n",
    "It is a measurement of the spread between numbers in a data set. That is, it measures how far each number in the set is from the mean and therefore from every other number in the set.\n",
    "$$Variance=\\frac{\\sum (x_i-\\bar x)^2}{n-1}$$\n",
    "\n",
    "Variance Properties:\n",
    "* If a constant is added to each data point, the variance remains the same. Adding a constant shifts the distribution and doesn't affect variability of the data. The deviations from the mean remains the same as well.\n",
    "* If a constant is multiplied to each observation, the standard deviation increases proportionally to the constant and the variance increases to the squared constant"
   ]
  },
  {
   "cell_type": "markdown",
   "metadata": {},
   "source": [
    "### Standard Deviation\n",
    "$$Std Dev=\\sqrt{\\frac{\\sum (x_i-\\bar x)^2}{n-1}}$$\n",
    "\n",
    "The standard deviation is a statistic that measures the dispersion of a dataset relative to its mean and is calculated as the square root of the variance. It is calculated as the square root of variance by determining the variation between each data point relative to the mean. If the data points are further from the mean, there is a higher deviation within the data set; thus, the more spread out the data, the higher the standard deviation."
   ]
  },
  {
   "cell_type": "code",
   "execution_count": 34,
   "metadata": {},
   "outputs": [
    {
     "data": {
      "text/plain": [
       "1899.5"
      ]
     },
     "execution_count": 34,
     "metadata": {},
     "output_type": "execute_result"
    }
   ],
   "source": [
    "# Variance\n",
    "statistics.variance(l)"
   ]
  },
  {
   "cell_type": "code",
   "execution_count": 35,
   "metadata": {},
   "outputs": [
    {
     "data": {
      "text/plain": [
       "43.583253664681806"
      ]
     },
     "execution_count": 35,
     "metadata": {},
     "output_type": "execute_result"
    }
   ],
   "source": [
    "# Standard Deviation\n",
    "statistics.stdev(l)"
   ]
  },
  {
   "cell_type": "markdown",
   "metadata": {},
   "source": [
    "### Percentile Rank\n",
    "It is defined as proportion of scores in a distribution that a specific score is greater than or equal to. For instance, if there is a score of 95 on a math test and this score was greater than or equal to the scores of 88% of the students taking the test, then the percentile rank would be 88 (88th percentile). Alternatively, percentile rank is sometimes defined simply as the proportion of a distribution that a score is greater than."
   ]
  },
  {
   "cell_type": "markdown",
   "metadata": {},
   "source": [
    "## Frequency Distribution\n",
    "\n",
    "The distribution of empirical data is called a frequency distribution and consists of a count of the number of occurrences of each value. If the data are continuous, then a grouped frequency distribution is used. Typically, a distribution is portrayed using a frequency polygon or a histogram. Mathematical equations are often used to define distributions. The normal distribution is, perhaps, the best known example.\n",
    "\n",
    "A grouped frequency distribution is a frequency distribution in which frequencies are displayed for ranges of data rather than for individual values. For example, the distribution of heights might be calculated by defining one-inch ranges. The frequency of individuals with various heights rounded off to the nearest inch would then be tabulated.\n",
    "\n",
    "A histogram and a frequency polygon are the graphical representations of a distribution. They partition the variable on the x-axis into various contiguous class intervals of (usually) equal widths. The heights of the _bars_ in a histogram and the _polygon's points_ in a frequency polygon represent the class frequencies."
   ]
  },
  {
   "cell_type": "markdown",
   "metadata": {},
   "source": [
    "## Gaussian Distribution\n",
    "\n",
    "Properties in the real world can be represented by a normal distribution, also known as __Gaussian Distribution__ or the __Bell Curve__. Normal distributions do not necessarily have the same means and standard deviations. A normal distribution with a mean of 0 and a standard deviation of 1 is called a __standard normal distribution__.\n",
    "\n",
    "$$N(\\mu,\\sigma)=\\frac{1}{\\sqrt {2\\pi\\sigma^2}}e^{-\\frac{(x-\\mu)^2}{2\\sigma^2}}$$\n",
    "\n",
    "\n",
    "* Normal distributions are symmetric around their mean.\n",
    "* The mean, median, and mode of a normal distribution are equal.\n",
    "* The area under the normal curve is equal to 1.0.\n",
    "* Normal distributions are denser in the center and less dense in the tails. There will be a large number of points close to the average. There will be few extreme values - the number of extreme values at either side of the mean will be the same. \n",
    "\n",
    "### z-Score\n",
    "A value from any normal distribution can be transformed into its corresponding value on a standard normal distribution using the following formula:\n",
    "\n",
    "$$z=\\frac{x-\\mu}{\\sigma}$$\n",
    "\n",
    "In other words, z-score is determined in order to normalize the data or standardizing the distribution. The standard normal distribution is sometimes called the z distribution. A z score always reflects the number of standard deviations above or below the mean a particular score is.\n",
    "\n",
    "\n",
    "### Modality\n",
    "The modality of a distribution is determined by the number of peaks the data presents.\n",
    "* Most distributions are Unimodal which means it has only one frequently occurring score, clustered at the top while a bimodal has two values occurring frequently.\n",
    "* A Bimodal distribution is a continuous probability distribution with two different modes. These appear as distinct peaks (local maxima) in the probability density function.\n",
    "* A Uniform Distribution has a single value which only occurs in a certain range while anything outside that range is just 0. It’s very much an “on or off” distribution. It as an indication of a categorical variable with 2 categories: 0 or the value. The categorical variable might have multiple values other than 0 and it can be visualized in the same way as a piecewise function of multiple uniform distributions."
   ]
  },
  {
   "cell_type": "markdown",
   "metadata": {},
   "source": [
    "## Stratified Analysis\n",
    "\n",
    "- Stratified analysis is a powerful statistical approach that allows you to test for confounding and interaction, \n",
    "- But unlike logistic regression, it is quite simple and doesn't distance you from your data. \n",
    "- One can 'see' the associations and enjoy the insights gained from analysis.\n",
    "\n",
    "- This approach is useful when you are interested in testing association between two categorical variables - say exposure and disease.\n",
    "- By adjusting for a third categorical variable. \n",
    "- If done correctly, it also enables you to investigate whether the third variable is a confounder or an effect modifier.\n",
    "\n",
    "For example, you might be interested in evaluating an association between obesity and cardiovascular disease after stratifying by age or you might want to investigate acceptances rates for males and females in a university program stratified by department. In both these situations you could conduct stratified analysis to identify confounding and interaction."
   ]
  },
  {
   "cell_type": "code",
   "execution_count": null,
   "metadata": {},
   "outputs": [],
   "source": []
  }
 ],
 "metadata": {
  "kernelspec": {
   "display_name": "Python 3",
   "language": "python",
   "name": "python3"
  },
  "language_info": {
   "codemirror_mode": {
    "name": "ipython",
    "version": 3
   },
   "file_extension": ".py",
   "mimetype": "text/x-python",
   "name": "python",
   "nbconvert_exporter": "python",
   "pygments_lexer": "ipython3",
   "version": "3.6.8"
  }
 },
 "nbformat": 4,
 "nbformat_minor": 2
}
